{
  "nbformat": 4,
  "nbformat_minor": 0,
  "metadata": {
    "colab": {
      "name": "For-While.ipynb",
      "provenance": [],
      "collapsed_sections": [],
      "include_colab_link": true
    },
    "kernelspec": {
      "name": "python3",
      "display_name": "Python 3"
    },
    "language_info": {
      "name": "python"
    }
  },
  "cells": [
    {
      "cell_type": "markdown",
      "metadata": {
        "id": "view-in-github",
        "colab_type": "text"
      },
      "source": [
        "<a href=\"https://colab.research.google.com/github/SergioLemos1963/AAPA---Hello-World/blob/man/For_While.ipynb\" target=\"_parent\"><img src=\"https://colab.research.google.com/assets/colab-badge.svg\" alt=\"Open In Colab\"/></a>"
      ]
    },
    {
      "cell_type": "markdown",
      "source": [
        "laços de repetição\n",
        "\n",
        "for - while\n",
        "\n",
        "WHILE\n",
        "\n",
        "Enquanto <condição>\n",
        "  <comandos>\n",
        "Fim Enquanto\n",
        "\n",
        "\n",
        "mostrar número de 1 - 30"
      ],
      "metadata": {
        "id": "iimB0oODjuaz"
      }
    },
    {
      "cell_type": "code",
      "execution_count": null,
      "metadata": {
        "id": "cKc0GjXFjke9"
      },
      "outputs": [],
      "source": [
        "vconta = 0\n",
        "\n",
        "while vconta <= 30:\n",
        "  print(vconta)\n",
        "  vconta +=5\n",
        "\n",
        "print(\"***** FIM DO PROGRAMA *****\")"
      ]
    },
    {
      "cell_type": "code",
      "source": [
        "num = int(input(\"Digite a tabuada desejada: \"))\n",
        "vconta = 0\n",
        "\n",
        "\n",
        "while vconta <= 10:\n",
        "  print(num, \"*\", vconta, \"=\", num*vconta)\n",
        "  vconta +=1\n",
        "\n",
        "print(\"***** FIM DO PROGRAMA *****\")"
      ],
      "metadata": {
        "id": "hFkvzO7UlSC_"
      },
      "execution_count": null,
      "outputs": []
    },
    {
      "cell_type": "markdown",
      "source": [
        "SORTEAR 3 NUMEROS DIFERENTES E ALEATÓRIOS ENTRE 1 - 10"
      ],
      "metadata": {
        "id": "aPvSmE2bmYB8"
      }
    },
    {
      "cell_type": "code",
      "source": [
        "import random\n",
        "\n",
        "print(\"* * * SORTEANDO 3 NÚMEROS ALEATÓRIOS DE 1 A 10 * * *\")\n",
        "input(\"Pressione ENTER para sortear os números....\")\n",
        "\n",
        "while True:\n",
        "  num1 = random.randint(1, 10)\n",
        "  num2 = random.randint(1, 10)\n",
        "  num3 = random.randint(1, 10)\n",
        "\n",
        "  if (num1 not in (num2, num3) and num2 != num3):\n",
        "    break\n",
        "\n",
        "print(num1)\n",
        "print(num2)\n",
        "print(num3)"
      ],
      "metadata": {
        "colab": {
          "base_uri": "https://localhost:8080/"
        },
        "id": "CZJnliB-mjz6",
        "outputId": "8b6de178-732d-4eb3-fcb5-8373bd42581b"
      },
      "execution_count": null,
      "outputs": [
        {
          "output_type": "stream",
          "name": "stdout",
          "text": [
            "* * * SORTEANDO 3 NÚMEROS ALEATÓRIOS DE 1 A 10 * * *\n",
            "Pressione ENTER para sortear os números....\n",
            "4\n",
            "7\n",
            "5\n"
          ]
        }
      ]
    },
    {
      "cell_type": "markdown",
      "source": [
        "Sortear 1 numero aleatório de 1 - 10\n",
        "Pedir para o usuário adivinhar o número, tendo ele apenas 3 chances de acertar."
      ],
      "metadata": {
        "id": "bO-wJOHcrbM5"
      }
    }
  ]
}